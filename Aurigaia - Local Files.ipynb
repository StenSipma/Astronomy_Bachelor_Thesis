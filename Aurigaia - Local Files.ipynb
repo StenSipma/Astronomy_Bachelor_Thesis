{
 "cells": [
  {
   "cell_type": "code",
   "execution_count": null,
   "id": "a4e7b895",
   "metadata": {},
   "outputs": [],
   "source": [
    "import aurigaia as ag  # Local package, manually pip install this!\n",
    "import aurigaia.kapteyn as ak\n",
    "\n",
    "import numpy as np\n",
    "import matplotlib.pyplot as plt"
   ]
  },
  {
   "cell_type": "markdown",
   "id": "279d84b0",
   "metadata": {},
   "source": [
    "## Functions"
   ]
  },
  {
   "cell_type": "code",
   "execution_count": null,
   "id": "e958fb89",
   "metadata": {},
   "outputs": [],
   "source": [
    "from math import radians, pi\n",
    "from aurigaia.read_aurigaia import BaseFilter\n",
    "\n",
    "\n",
    "class PositionFilter(BaseFilter):\n",
    "    \"\"\"\n",
    "    Filters the stars based on given intervals for the Ra and Dec:\n",
    "    ra_range:  [ra_min,  ra_max]\n",
    "    dec_range: [dec_min, dec_max]\n",
    "    \n",
    "    The range is inclusive.\n",
    "    \n",
    "    `deg` specifies the unit of the input ranges.\n",
    "    Assumed intervals are:\n",
    "        ra:  [-pi,   pi]\n",
    "        dec: [-pi/2, pi/2]\n",
    "    \n",
    "    WARNING: providing an interval like (for ra): (170, 190) will be invalid,\n",
    "                due to the interval of the database. It will wrap to (170, -170)\n",
    "                and thus give something invalid. The function should be adapted\n",
    "                to properly handle these intervals as well.\n",
    "    \"\"\"\n",
    "    def __init__(self, ra_range=None, dec_range=None, obs=False, deg=True):\n",
    "        self.quantity = \"HCoordinates\"\n",
    "        if obs:\n",
    "            self.quantity += \"Obs\"\n",
    "\n",
    "        self.ra_min, self.ra_max = ra_range\n",
    "        self.dec_min, self.dec_max = dec_range\n",
    "\n",
    "        # Convert degrees to radians if needed\n",
    "        if deg:\n",
    "            self.ra_min = radians(self.ra_min)\n",
    "            self.ra_max = radians(self.ra_max)\n",
    "            self.dec_min = radians(self.dec_min)\n",
    "            self.dec_max = radians(self.dec_max)\n",
    "\n",
    "        # Change interval to be in [-pi , pi] and [-pi/2, pi/2] for ra and dec\n",
    "        # respectively\n",
    "        if self.ra_min > pi:\n",
    "            self.ra_min -= 2 * pi\n",
    "        if self.ra_max > pi:\n",
    "            self.ra_max -= 2 * pi\n",
    "        if self.dec_min > pi / 2:\n",
    "            self.dec_min -= pi\n",
    "        if self.dec_max > pi / 2:\n",
    "            self.dec_max -= pi\n",
    "\n",
    "    def stars_to_keep(self, nstars, data):\n",
    "        ra = data[self.quantity][:, 0]\n",
    "        dec = data[self.quantity][:, 1]\n",
    "        return (self.ra_min <= ra) & (ra <= self.ra_max) & (self.dec_min <= dec) & (dec <= self.dec_max)"
   ]
  },
  {
   "cell_type": "code",
   "execution_count": null,
   "id": "c427759a",
   "metadata": {},
   "outputs": [],
   "source": [
    "import astropy.units as u\n",
    "from astropy.coordinates import SkyCoord\n",
    "\n",
    "def calculate_galactic_coords(hcoordinates, hvelocities):\n",
    "   # Extract coordinate components from the HCoordinates dataset\n",
    "    ra = u.Quantity(hcoordinates[:, 0], unit=u.radian)\n",
    "    dec = u.Quantity(hcoordinates[:, 1], unit=u.radian)\n",
    "    parallax = u.Quantity(hcoordinates[:, 2], unit=u.arcsec)\n",
    "\n",
    "    # Extract velocities from HVelocities dataset\n",
    "    pm_ra_cosdec = u.Quantity(hvelocities[:, 0], unit=u.arcsec / u.year)\n",
    "    pm_dec = u.Quantity(hvelocities[:, 1], unit=u.arcsec / u.year)\n",
    "    rv = u.Quantity(hvelocities[:, 2], unit=u.km / u.second)\n",
    "\n",
    "    # Calculate distance to each star:\n",
    "    # Distance in parsecs is just 1.0/(parallax in arcsecs),\n",
    "    # but here we let astropy deal with the units.\n",
    "    dist = parallax.to(u.kpc, equivalencies=u.parallax())\n",
    "\n",
    "    # Translate to galactic coordinates using astropy\n",
    "    coords = SkyCoord(ra=ra, dec=dec, distance=dist,\n",
    "                  pm_ra_cosdec=pm_ra_cosdec, pm_dec=pm_dec,\n",
    "                  radial_velocity=rv, frame='icrs')\n",
    "    gal = coords.galactic\n",
    "    \n",
    "    # New shape is (#stars, 2)\n",
    "    shape = (hcoordinates.shape[0], 2)\n",
    "    \n",
    "    # Put the new coordinates into fresh arrays\n",
    "    pos = np.empty(shape)\n",
    "    pos[:, 0] = gal.l.deg\n",
    "    pos[:, 1] = gal.b.deg\n",
    "    \n",
    "    vel = np.empty(shape)\n",
    "    vel[:, 0] = gal.pm_l_cosb.to(u.arcsec / u.yr).value\n",
    "    vel[:, 1] = gal.pm_b.to(u.arcsec / u.yr).value\n",
    "    \n",
    "    return pos, vel"
   ]
  },
  {
   "cell_type": "code",
   "execution_count": null,
   "id": "7ab1ec17",
   "metadata": {},
   "outputs": [],
   "source": [
    "import h5py\n",
    "from time import process_time\n",
    "\n",
    "def save_hdf5(data, halo_nr, ext=True, prefix=None):\n",
    "    ext_str = \"ext\" if ext else \"noext\"\n",
    "    \n",
    "    if prefix is None:\n",
    "        prefix = \"\"\n",
    "    \n",
    "    data_filename = f\"{prefix}ICC_{ext_str}_Au{halo_nr:02d}.hdf5\"\n",
    "    print(f\"Writing data to {data_filename}...\")\n",
    "    \n",
    "    start = process_time()\n",
    "    \n",
    "    with h5py.File(data_filename, 'w') as f:\n",
    "        # Add everything with a single column\n",
    "        for k, v in data[\"stars\"].items():\n",
    "            if len(v.shape) == 1:\n",
    "                f.create_dataset(k, data=v)\n",
    "\n",
    "        # Assumes Pos, Vel, and the HCoordinate/ HVelocities are available\n",
    "        for i, l in enumerate([\"X\", \"Y\", \"Z\"]):\n",
    "            f.create_dataset(f\"Pos{l}\", data=data[\"stars\"][\"Pos\"][:, i])\n",
    "            f.create_dataset(f\"Vel{l}\", data=data[\"stars\"][\"Vel\"][:, i])\n",
    "            f.create_dataset(f\"Pos{l}Obs\", data=data[\"stars\"][\"PosObs\"][:, i])\n",
    "            f.create_dataset(f\"Vel{l}Obs\", data=data[\"stars\"][\"VelObs\"][:, i])\n",
    "\n",
    "        for i, l in enumerate([\"RA\", \"Dec\", \"Parallax\"]):\n",
    "            f.create_dataset(f\"{l}\", data=data[\"stars\"][\"HCoordinates\"][:, i])\n",
    "            f.create_dataset(f\"{l}Obs\", data=data[\"stars\"][\"HCoordinatesObs\"][:, i])\n",
    "            f.create_dataset(f\"{l}Error\", data=data[\"stars\"][\"HCoordinateErrors\"][:, i])\n",
    "            \n",
    "            name = f\"PM{l}\"\n",
    "            if l == \"Parallax\":\n",
    "                name = \"RadialVelocity\"\n",
    "            f.create_dataset(name, data=data[\"stars\"][\"HVelocities\"][:, i])\n",
    "            f.create_dataset(name + \"Obs\", data=data[\"stars\"][\"HVelocitiesObs\"][:, i])\n",
    "            f.create_dataset(name + \"Error\", data=data[\"stars\"][\"HVelocityErrors\"][:, i])\n",
    "            \n",
    "    end = process_time()\n",
    "    print(f\"Writing took {end - start}s\")\n",
    "    \n",
    "    metadata_filename = f\"{prefix}ICC_{ext_str}_Au{halo_nr:02d}-meta.hdf5\"\n",
    "    print(f\"Writing metadata to {metadata_filename}...\")\n",
    "    start = process_time()\n",
    "    \n",
    "    # Save the metadata separately, since vaex doesn't know how to read it if\n",
    "    # it is included.\n",
    "    with h5py.File(metadata_filename, 'w') as f:\n",
    "        # Parameters\n",
    "        param = f.create_group(\"Parameters\")\n",
    "        for k, v in data[\"Parameters\"].items():\n",
    "            param[k] = v\n",
    "\n",
    "        # Headers\n",
    "        head = f.create_group(\"Header\")\n",
    "        for k, v in data[\"Header\"].items():\n",
    "            head[k] = v\n",
    "\n",
    "    end = process_time()\n",
    "    print(f\"Writing took {end - start}s\")"
   ]
  },
  {
   "cell_type": "code",
   "execution_count": null,
   "id": "698dd5ef",
   "metadata": {},
   "outputs": [],
   "source": [
    "from copy import deepcopy\n",
    "\n",
    "# Filter out everything outside 24x24 box\n",
    "def select_box(data, copy=True):\n",
    "    newdata = data\n",
    "    if copy:\n",
    "        newdata = deepcopy(newdata)\n",
    "    \n",
    "    l = data[\"stars\"][\"l_wrap\"]\n",
    "    b = data[\"stars\"][\"b\"]\n",
    "    selection = (l > -12) & (l < 12) & (b > -12) & (b < 12)\n",
    "    for k, v in data[\"stars\"].items():\n",
    "        newdata[\"stars\"][k] = v[selection, ...]\n",
    "    return newdata"
   ]
  },
  {
   "cell_type": "code",
   "execution_count": null,
   "id": "7318cd8d",
   "metadata": {},
   "outputs": [],
   "source": [
    "from aurigaia.read_aurigaia import RangeFilter, DifferenceFilter\n",
    "\n",
    "\n",
    "def grab_halo(halo_nr, ext=True, location_prefix=None, verbose=True):\n",
    "    # Create filters\n",
    "    pos_filt = PositionFilter(ra_range=(247, 285), dec_range=(-46, -12))\n",
    "    range_filt = RangeFilter('Gmagnitude', vmin=13.5, vmax=16.5)\n",
    "\n",
    "    filters = [range_filt, pos_filt]\n",
    "\n",
    "    # Read the data from gaia2 server\n",
    "    data = ak.kapteyn_aurigaia(halo_n=halo_nr,\n",
    "                                   angle=30,\n",
    "                                   ext=ext,\n",
    "                                   filters=filters,\n",
    "                                   verbose=verbose,\n",
    "                                   datasets=ak.available_props,\n",
    "                                   units=False)\n",
    "    \n",
    "    # Add galactic coordinates as well\n",
    "    pos, vel = calculate_galactic_coords(data[\"stars\"][\"HCoordinates\"], data[\"stars\"][\"HVelocities\"])\n",
    "    data[\"stars\"][\"l\"] = pos[:, 0]\n",
    "    data[\"stars\"][\"l_wrap\"] = np.where(pos[:, 0] > 180, pos[:, 0] - 360, pos[:, 0])\n",
    "    data[\"stars\"][\"b\"] = pos[:, 1]\n",
    "    data[\"stars\"][\"PMl_cosb\"] = vel[:, 0]\n",
    "    data[\"stars\"][\"PMb\"] = vel[:, 1]\n",
    "    \n",
    "    pos, vel = calculate_galactic_coords(data[\"stars\"][\"HCoordinatesObs\"], data[\"stars\"][\"HVelocitiesObs\"])\n",
    "    data[\"stars\"][\"lObs\"] = pos[:, 0]\n",
    "    data[\"stars\"][\"l_wrapObs\"] = np.where(pos[:, 0] > 180, pos[:, 0] - 360, pos[:, 0])\n",
    "    data[\"stars\"][\"bObs\"] = pos[:, 1]\n",
    "    data[\"stars\"][\"PMl_cosbObs\"] = vel[:, 0]\n",
    "    data[\"stars\"][\"PMbObs\"] = vel[:, 1]\n",
    "    \n",
    "    # Remove everything out 24x24 box in place\n",
    "    select_box(data, copy=False)\n",
    "    \n",
    "    # And save the data\n",
    "    save_hdf5(data, halo_nr=halo_nr, ext=ext, prefix=\"./data/mocks/\")"
   ]
  },
  {
   "cell_type": "markdown",
   "id": "ef102c71",
   "metadata": {},
   "source": [
    "## Actually Running"
   ]
  },
  {
   "cell_type": "code",
   "execution_count": null,
   "id": "2852be3f",
   "metadata": {
    "scrolled": true
   },
   "outputs": [],
   "source": [
    "AVAIL_HALO = [6, 16, 21, 23, 24]\n",
    "# TODO: halo 27 only noext available\n",
    "grab_halo(6, ext=True, location_prefix=\"./data/mocks/\")"
   ]
  },
  {
   "cell_type": "markdown",
   "id": "e4f9dca5",
   "metadata": {},
   "source": [
    "## Old Manual Running"
   ]
  },
  {
   "cell_type": "code",
   "execution_count": null,
   "id": "28ae64cf",
   "metadata": {
    "scrolled": true
   },
   "outputs": [],
   "source": [
    "ak.available_props"
   ]
  },
  {
   "cell_type": "code",
   "execution_count": null,
   "id": "76083b0d",
   "metadata": {},
   "outputs": [],
   "source": [
    "from aurigaia.read_aurigaia import RangeFilter, DifferenceFilter\n",
    "pos_filt = PositionFilter(ra_range=(247, 285), dec_range=(-46, -12))\n",
    "range_filt = RangeFilter('Gmagnitude', vmin=13.5, vmax=16.5)\n",
    "\n",
    "filters = [range_filt, pos_filt]"
   ]
  },
  {
   "cell_type": "code",
   "execution_count": null,
   "id": "31fbad21",
   "metadata": {
    "scrolled": true
   },
   "outputs": [],
   "source": [
    "data_ext = ak.kapteyn_aurigaia(halo_n=6,\n",
    "                           angle=30,\n",
    "                           ext=True,\n",
    "                           filters=filters,\n",
    "                           verbose=True,\n",
    "                           datasets=ak.available_props,\n",
    "                           units=False)"
   ]
  },
  {
   "cell_type": "code",
   "execution_count": null,
   "id": "0e94181a",
   "metadata": {},
   "outputs": [],
   "source": [
    "data_ext[\"stars\"][\"HVelocities\"].shape"
   ]
  },
  {
   "cell_type": "code",
   "execution_count": null,
   "id": "0d545313",
   "metadata": {},
   "outputs": [],
   "source": [
    "pos, vel = calculate_galactic_coords(data_ext[\"stars\"][\"HCoordinates\"], data_ext[\"stars\"][\"HVelocities\"])\n",
    "data[\"stars\"][\"l\"] = pos[:, 0]\n",
    "data[\"stars\"][\"l_wrap\"] = np.where(pos[:, 0] > 180, pos[:, 0] - 360, pos[:, 0])\n",
    "data[\"stars\"][\"b\"] = pos[:, 1]\n",
    "data[\"stars\"][\"PMl_cosb\"] = vel[:, 0]\n",
    "data[\"stars\"][\"PMb\"] = vel[:, 1]"
   ]
  },
  {
   "cell_type": "code",
   "execution_count": null,
   "id": "1119f7a9",
   "metadata": {},
   "outputs": [],
   "source": [
    "pos, vel = calculate_galactic_coords(data_ext[\"stars\"][\"HCoordinatesObs\"], data_ext[\"stars\"][\"HVelocitiesObs\"])\n",
    "data[\"stars\"][\"lObs\"] = pos[:, 0]\n",
    "data[\"stars\"][\"l_wrapObs\"] = np.where(pos[:, 0] > 180, pos[:, 0] - 360, pos[:, 0])\n",
    "data[\"stars\"][\"bObs\"] = pos[:, 1]\n",
    "data[\"stars\"][\"PMl_cosbObs\"] = vel[:, 0]\n",
    "data[\"stars\"][\"PMbObs\"] = vel[:, 1]"
   ]
  },
  {
   "cell_type": "code",
   "execution_count": null,
   "id": "18708d52",
   "metadata": {},
   "outputs": [],
   "source": [
    "x = np.arange(100)\n",
    "x.shape = (10, 10)\n",
    "x[0:3, :]"
   ]
  },
  {
   "cell_type": "code",
   "execution_count": null,
   "id": "7b129983",
   "metadata": {},
   "outputs": [],
   "source": [
    "save_hdf5(data_ext, halo_nr=6, ext=True, prefix=\"./data/mocks/\")"
   ]
  },
  {
   "cell_type": "code",
   "execution_count": null,
   "id": "60083098",
   "metadata": {},
   "outputs": [],
   "source": [
    "# tryout filter l\n",
    "dat = select_box(data_ext, copy=True)\n",
    "save_hdf5(dat, halo_nr=6, ext=True, prefix=\"./data/mocks/\")"
   ]
  },
  {
   "cell_type": "markdown",
   "id": "984e8f7c",
   "metadata": {},
   "source": [
    "## Verifying data correctness"
   ]
  },
  {
   "cell_type": "code",
   "execution_count": null,
   "id": "cd8a2c60",
   "metadata": {},
   "outputs": [],
   "source": [
    "import vaex"
   ]
  },
  {
   "cell_type": "code",
   "execution_count": null,
   "id": "8a77160d",
   "metadata": {},
   "outputs": [],
   "source": [
    "f = vaex.open(\"./data/mocks/ICC_ext_Au06.hdf5\")\n",
    "f.info()"
   ]
  },
  {
   "cell_type": "code",
   "execution_count": null,
   "id": "880057fc",
   "metadata": {},
   "outputs": [],
   "source": [
    "f.viz.heatmap('PosX', 'PosY', what='count(*)', f='log10', selection='Parallax < 0.00025')"
   ]
  },
  {
   "cell_type": "code",
   "execution_count": null,
   "id": "8a67786a",
   "metadata": {},
   "outputs": [],
   "source": [
    "selection = \"Parallax < 0.00025\"\n",
    "fig, axs = plt.subplots(1, 2, figsize=(11, 5))\n",
    "\n",
    "ax = axs[0]\n",
    "plt.sca(ax)\n",
    "f.viz.heatmap('l_wrap', 'b', what='count(*)', f='log1p', selection=selection)\n",
    "ax.vlines(-12, -12, 12, ls='--', color='k')\n",
    "ax.vlines(12, -12, 12, ls='--', color='k')\n",
    "ax.hlines(-12, -12, 12, ls='--', color='k')\n",
    "ax.hlines(12, -12, 12, ls='--', color='k')\n",
    "ax.set_xlabel('l (deg)')\n",
    "ax.set_ylabel('b (deg)')\n",
    "ax.invert_xaxis()\n",
    "\n",
    "ax = axs[1]\n",
    "plt.sca(ax)\n",
    "f.viz.heatmap('l_wrap', 'b', what='count(*)', f='log1p', limits=[-12, 12], selection=selection)\n",
    "ax.set_xlabel('l (deg)')\n",
    "ax.set_ylabel('b (deg)')\n",
    "ax.invert_xaxis()\n",
    "\n",
    "plt.show()"
   ]
  },
  {
   "cell_type": "code",
   "execution_count": null,
   "id": "de786064",
   "metadata": {},
   "outputs": [],
   "source": [
    "f['Distance'] = 1 / f['Parallax']\n",
    "f['GabsMagnitude'] = f['Gmagnitude'] - 5*np.log10(f['Distance'] / 10)\n",
    "\n",
    "# Deredden\n",
    "VtoG = 0.718\n",
    "VtoBP = 0.9875\n",
    "VtoRP = 0.576\n",
    "\n",
    "f[\"GabsMagnitudeDR\"] = f[\"GabsMagnitude\"] - f[\"Extinction31\"]*VtoG\n",
    "f[\"GBmagnitudeDR\"] = f[\"GBmagnitude\"] - f[\"Extinction31\"]*VtoBP\n",
    "f[\"GRmagnitudeDR\"] = f[\"GRmagnitude\"] - f[\"Extinction31\"]*VtoRP"
   ]
  },
  {
   "cell_type": "code",
   "execution_count": null,
   "id": "d66c3f5c",
   "metadata": {},
   "outputs": [],
   "source": [
    "box_selection = \"(l_wrap > -12) & (l_wrap < 12) & (b > -12) & (b < 12) & (Parallax < 0.00025)\"\n",
    "\n",
    "fig, axs = plt.subplots(1, 2, figsize=(10, 4))\n",
    "axs = axs.flatten()\n",
    "\n",
    "ax = axs[0]\n",
    "plt.sca(ax)\n",
    "f.viz.heatmap('GBmagnitude - GRmagnitude', '-GabsMagnitude', f='log10', colormap='YlOrBr', selection=box_selection)\n",
    "ax.set_title('Actual')\n",
    "\n",
    "ax = axs[1]\n",
    "plt.sca(ax)\n",
    "f.viz.heatmap('GBmagnitudeDR - GRmagnitudeDR', '-GabsMagnitudeDR', f='log10', colormap='YlOrBr', selection=box_selection)\n",
    "ax.set_title('Dereddened')\n",
    "\n",
    "plt.show()"
   ]
  }
 ],
 "metadata": {
  "kernelspec": {
   "display_name": "Anaconda3 - 2021.11",
   "language": "python",
   "name": "python3-2021.11"
  },
  "language_info": {
   "codemirror_mode": {
    "name": "ipython",
    "version": 3
   },
   "file_extension": ".py",
   "mimetype": "text/x-python",
   "name": "python",
   "nbconvert_exporter": "python",
   "pygments_lexer": "ipython3",
   "version": "3.9.7"
  },
  "toc": {
   "base_numbering": 1,
   "nav_menu": {},
   "number_sections": true,
   "sideBar": true,
   "skip_h1_title": true,
   "title_cell": "Table of Contents",
   "title_sidebar": "Contents",
   "toc_cell": false,
   "toc_position": {},
   "toc_section_display": true,
   "toc_window_display": true
  }
 },
 "nbformat": 4,
 "nbformat_minor": 5
}
